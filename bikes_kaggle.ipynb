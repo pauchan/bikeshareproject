{
 "cells": [
  {
   "cell_type": "markdown",
   "metadata": {},
   "source": [
    "### Data Fields\n",
    "\n",
    "- datetime - hourly date + timestamp  \n",
    "- season -  1 = spring, 2 = summer, 3 = fall, 4 = winter \n",
    "- holiday - whether the day is considered a holiday\n",
    "- workingday - whether the day is neither a weekend nor holiday\n",
    "- weather - 1: Clear, Few clouds, Partly cloudy, Partly cloudy \n",
    "- 2: Mist + Cloudy, Mist + Broken clouds, Mist + Few clouds, Mist \n",
    "- 3: Light Snow, Light Rain + Thunderstorm + Scattered clouds, Light Rain + Scattered clouds \n",
    "- 4: Heavy Rain + Ice Pallets + Thunderstorm + Mist, Snow + Fog \n",
    "- temp - temperature in Celsius\n",
    "- atemp - \"feels like\" temperature in Celsius\n",
    "- humidity - relative humidity\n",
    "- windspeed - wind speed\n",
    "- casual - number of non-registered user rentals initiated\n",
    "- registered - number of registered user rentals initiated\n",
    "- count - number of total rentals\n",
    "\n",
    "(ten years of data, first 20 days a month is train, rest is test)"
   ]
  },
  {
   "cell_type": "code",
   "execution_count": 3,
   "metadata": {
    "collapsed": false
   },
   "outputs": [],
   "source": [
    "import numpy as np\n",
    "import scipy \n",
    "import pandas as pd"
   ]
  },
  {
   "cell_type": "code",
   "execution_count": 8,
   "metadata": {
    "collapsed": true
   },
   "outputs": [],
   "source": [
    "def normalize(x):\n",
    "    return (x - x.mean()) / (x.max() - x.min()) + 1 \n",
    "\n",
    "# generate dummy numericals for the categorical data\n",
    "def dummy(x, labels):\n",
    "    y = pd.get_dummies(x)\n",
    "    y.colums = labels\n",
    "    y = y.astype(int)\n",
    "    return y"
   ]
  },
  {
   "cell_type": "code",
   "execution_count": 31,
   "metadata": {
    "collapsed": false
   },
   "outputs": [],
   "source": [
    "def clean(dset):\n",
    "    # extract useful data from the datetime column\n",
    "    dset.datetime = pd.to_datetime(dset.datetime)\n",
    "    dset[\"hour\"] = dset.datetime.dt.hour\n",
    "    dset[\"year\"] = dset.datetime.dt.year\n",
    "    # we dont need datetime anymore\n",
    "    dset = dset.drop('datetime', 1)\n",
    "    \n",
    "    weather_labels = [\"Clear\", \"Mist\", \"LightSnow\", \"HeavyRain\"]\n",
    "    season_labels =[\"spring\", \"summer\", \"fall\", \"winter\"]\n",
    "    \n",
    "    weather = dummy(dset.weather, weather_labels)\n",
    "    season = dummy(dset.season, season_labels)\n",
    "    \n",
    "    weather_season = weather.merge(season, left_index=True, right_index=True)\n",
    "    dset = dset.merge(weather_season, left_index=True, right_index=True)\n",
    "    \n",
    "    dset = dset.drop('weather', 1)\n",
    "    dset = dset.drop('season', 1)\n",
    "\n",
    "    # normalize numerical data\n",
    "    dset.temp = normalize(dset.temp)\n",
    "    dset.atemp = normalize(dset.atemp)\n",
    "    dset.windspeed = normalize(dset.windspeed)\n",
    "    dset.humidity = normalize(dset.humidity)\n",
    "    dset.hour = normalize(dset.hour)\n",
    "    dset.year = normalize(dset.year)\n",
    "    return dset\n",
    "    "
   ]
  },
  {
   "cell_type": "code",
   "execution_count": 15,
   "metadata": {
    "collapsed": false
   },
   "outputs": [],
   "source": [
    "train_t = pd.read_csv(\"data/original/train.csv\")\n",
    "test_t = pd.read_csv(\"data/original/test.csv\")"
   ]
  },
  {
   "cell_type": "code",
   "execution_count": 21,
   "metadata": {
    "collapsed": false
   },
   "outputs": [
    {
     "data": {
      "text/plain": [
       "(6493, 9)"
      ]
     },
     "execution_count": 21,
     "metadata": {},
     "output_type": "execute_result"
    }
   ],
   "source": [
    "np.shape(train_t)\n",
    "np.shape(test_t)"
   ]
  },
  {
   "cell_type": "code",
   "execution_count": 32,
   "metadata": {
    "collapsed": false
   },
   "outputs": [],
   "source": [
    "train = clean(train_t)\n",
    "test = clean(test_t)"
   ]
  },
  {
   "cell_type": "code",
   "execution_count": 34,
   "metadata": {
    "collapsed": false
   },
   "outputs": [],
   "source": [
    "# backup\n",
    "train.to_csv(\"data/clean/train.csv\")\n",
    "test.to_csv(\"data/clean/test.csv\")\n"
   ]
  },
  {
   "cell_type": "code",
   "execution_count": 120,
   "metadata": {
    "collapsed": false
   },
   "outputs": [],
   "source": []
  }
 ],
 "metadata": {
  "kernelspec": {
   "display_name": "Python 2",
   "language": "python",
   "name": "python2"
  },
  "language_info": {
   "codemirror_mode": {
    "name": "ipython",
    "version": 2
   },
   "file_extension": ".py",
   "mimetype": "text/x-python",
   "name": "python",
   "nbconvert_exporter": "python",
   "pygments_lexer": "ipython2",
   "version": "2.7.9"
  }
 },
 "nbformat": 4,
 "nbformat_minor": 0
}
